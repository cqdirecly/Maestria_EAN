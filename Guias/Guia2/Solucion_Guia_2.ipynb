{
  "cells": [
    {
      "cell_type": "markdown",
      "metadata": {
        "id": "view-in-github",
        "colab_type": "text"
      },
      "source": [
        "<a href=\"https://colab.research.google.com/github/cqdirecly/Maestria_EAN/blob/main/Guias/Guia2/Solucion_Guia_2.ipynb\" target=\"_parent\"><img src=\"https://colab.research.google.com/assets/colab-badge.svg\" alt=\"Open In Colab\"/></a>"
      ]
    },
    {
      "cell_type": "markdown",
      "source": [
        "# **$\\color{red}{\\text{Solución Guía 2}}$**\n",
        "\n",
        "Integrantes:\n",
        "\n",
        "|Nombre | Cedula  |\n",
        "|---|---|\n",
        "| CHRISTIAN CAMILO QUIMBAY LOPEZ    | 80.188.132      |\n",
        "| HELBER JOHN QUIMBAY LOPEZ | 80.188.133  |\n"
      ],
      "metadata": {
        "id": "nK_jIoN4000D"
      }
    },
    {
      "cell_type": "markdown",
      "metadata": {
        "id": "i_BWR4Zsyjoz"
      },
      "source": [
        "Objetivo: aplicar los conceptos de Pandas en la manipulación y análisis de datos estructurados. Se trabajará con Series y DataFrames, aplicando técnicas de acceso, selección, filtrado y agregación de datos.\n",
        "\n",
        "## **Caso de Negocio: Análisis de Deserción de Clientes en una Empresa de Telecomunicaciones**\n",
        "\n",
        "**Contexto**\n",
        "\n",
        "En la industria de las telecomunicaciones, la retención de clientes es un factor crítico para la sostenibilidad del negocio. La competencia es feroz y adquirir nuevos clientes suele ser más costoso que mantener a los actuales. En este análisis, exploraremos un conjunto de datos que contiene información detallada sobre clientes que han abandonado el servicio (churn) y aquellos que permanecen activos.\n",
        "\n",
        "Nuestro objetivo es identificar los factores clave que influyen en la deserción, comprender patrones de comportamiento y generar estrategias efectivas para reducir la tasa de abandono.\n",
        "\n",
        "La empresa ha experimentado un aumento en la tasa de deserción de clientes, lo que ha provocado:\n",
        "- Pérdida de ingresos recurrentes.\n",
        "- Incremento en los costos de adquisición de nuevos clientes.\n",
        "- Menor estabilidad en la base de clientes a largo plazo.\n",
        "\n",
        "Para abordar esta problemática, es crucial identificar las razones detrás de la deserción y desarrollar estrategias para mejorar la retención de clientes.\n",
        "\n"
      ]
    },
    {
      "cell_type": "markdown",
      "metadata": {
        "id": "TBsud25XSR0w"
      },
      "source": [
        "**Entrega del Trabajo**\n",
        "\n",
        "Los estudiantes deben trabajar en grupos de entre 2 y 4 personas. Cada grupo deberá subir su trabajo a un repositorio de GitHub, asegurándose de que el código y los archivos necesarios estén bien organizados y documentados. Posteriormente, deberán enviar el enlace del repositorio en la plataforma Canvas para su evaluación.\n",
        "\n",
        "Instrucciones para la entrega:\n",
        "\n",
        "Crear un repositorio en GitHub con un nombre descriptivo para el proyecto.\n",
        "\n",
        "Subir el código en Jupyter Notebook (.ipynb) o en formato Python (.py).\n",
        "\n",
        "Incluir un archivo README.md con una breve descripción del trabajo y las instrucciones de ejecución.\n",
        "\n",
        "Compartir el enlace del repositorio en Canvas dentro del plazo establecido.\n",
        "\n"
      ]
    },
    {
      "cell_type": "markdown",
      "metadata": {
        "id": "R1eyqBGSScta"
      },
      "source": [
        "## **Descripción de las variables del dataset telecom_churn**\n",
        "\n",
        "El dataset telecom_churn contiene información detallada sobre clientes de una empresa de telecomunicaciones, incluyendo datos generales, planes contratados, uso del servicio telefónico y llamadas al servicio al cliente. Su propósito principal es analizar patrones de deserción de clientes, identificados a través de la variable churn, que indica si un cliente ha abandonado la empresa (1) o sigue siendo cliente (0).\n",
        "\n",
        "Dentro del dataset, encontramos información general como el estado (state) donde reside el cliente, el código de área (area code), y el número de teléfono (phone number), aunque esta última variable no aporta información útil para el análisis, ya que es un identificador único.\n",
        "\n",
        "Además, el dataset registra el tiempo que un cliente ha estado en la empresa a través de la variable account length, lo que puede ayudar a analizar si la duración del contrato influye en la deserción. También se incluyen detalles sobre los planes contratados, como si el cliente tiene un plan internacional (international plan), que le permite realizar llamadas internacionales, o un buzón de voz (voice mail plan), que le permite recibir mensajes de voz.\n",
        "\n",
        "En cuanto al uso del servicio, se registran datos detallados sobre el tiempo en llamadas y los costos asociados. Se divide en tres períodos del día: diurno (total day minutes, total day calls, total day charge), vespertino (total eve minutes, total eve calls, total eve charge) y nocturno (total night minutes, total night calls, total night charge), lo que permite evaluar si hay patrones de consumo que influyen en la deserción. También se incluye información sobre el uso del servicio internacional, con variables como total intl minutes (minutos en llamadas internacionales), total intl calls (cantidad de llamadas internacionales) y total intl charge (costos por llamadas internacionales).\n",
        "\n",
        "Otro aspecto clave del dataset es el número de llamadas al servicio al cliente (customer service calls), ya que una mayor cantidad de llamadas puede indicar insatisfacción y estar relacionada con la decisión del cliente de abandonar la empresa.\n",
        "\n",
        "Finalmente, la variable más importante del análisis es churn, que indica si un cliente ha desertado de la empresa. A partir de esta variable, podemos analizar qué factores influyen en la deserción y encontrar patrones en los clientes que tienen mayor probabilidad de abandonar el servicio.\n"
      ]
    },
    {
      "cell_type": "markdown",
      "source": [
        "## **$\\color{#abcd55}{\\text{Solucion:}}$**"
      ],
      "metadata": {
        "id": "ZfXBluCN3L5C"
      }
    },
    {
      "cell_type": "markdown",
      "metadata": {
        "id": "-gqRGJ8yFs5Y"
      },
      "source": [
        "## **Exploración y Limpieza de Datos**"
      ]
    },
    {
      "cell_type": "markdown",
      "source": [
        "### Cargar y explorar el dataset\n",
        "\n",
        "Importa Pandas y carga el dataset telecom_churn.csv en un DataFrame."
      ],
      "metadata": {
        "id": "ATBoDV9x5CGl"
      }
    },
    {
      "cell_type": "code",
      "execution_count": 1,
      "metadata": {
        "id": "wuoyvrE0vQ09",
        "colab": {
          "base_uri": "https://localhost:8080/"
        },
        "outputId": "b6abfdfa-982b-429c-838c-686dc9d98a59"
      },
      "outputs": [
        {
          "output_type": "stream",
          "name": "stdout",
          "text": [
            "\n",
            "Version Pandas: \n",
            "2.2.2\n"
          ]
        }
      ],
      "source": [
        "import pandas as pd #importa la libreria pandas\n",
        "\n",
        "print(f'\\nVersion Pandas: ')\n",
        "print(pd.__version__) #indica la version de pandas instalada\n",
        "\n",
        "churn = pd.read_csv('telecom_churn.csv')  # Lee un archivo CSV en un DataFrame\n"
      ]
    },
    {
      "cell_type": "markdown",
      "source": [
        "### Muestra las primeras 5 filas del DataFrame.\n"
      ],
      "metadata": {
        "id": "JIzxYH2c5VGD"
      }
    },
    {
      "cell_type": "code",
      "source": [
        "#mostrar las primeras 5 filas del archivo\n",
        "print(f'\\nPrimeras 5 filas del archivo')\n",
        "churn.head()"
      ],
      "metadata": {
        "id": "36lhM3cp5c-A",
        "colab": {
          "base_uri": "https://localhost:8080/",
          "height": 413
        },
        "outputId": "61304e13-492a-43f6-feeb-3bba819b811c"
      },
      "execution_count": 3,
      "outputs": [
        {
          "output_type": "stream",
          "name": "stdout",
          "text": [
            "\n",
            "Primeras 5 filas del archivo\n"
          ]
        },
        {
          "output_type": "execute_result",
          "data": {
            "text/plain": [
              "  state  account length  area code phone number international plan  \\\n",
              "0    KS             128        415     382-4657                 no   \n",
              "1    OH             107        415     371-7191                 no   \n",
              "2    NJ             137        415     358-1921                 no   \n",
              "3    OH              84        408     375-9999                yes   \n",
              "4    OK              75        415     330-6626                yes   \n",
              "\n",
              "  voice mail plan  number vmail messages  total day minutes  total day calls  \\\n",
              "0             yes                     25              265.1              110   \n",
              "1             yes                     26              161.6              123   \n",
              "2              no                      0              243.4              114   \n",
              "3              no                      0              299.4               71   \n",
              "4              no                      0              166.7              113   \n",
              "\n",
              "   total day charge  ...  total eve calls  total eve charge  \\\n",
              "0             45.07  ...               99             16.78   \n",
              "1             27.47  ...              103             16.62   \n",
              "2             41.38  ...              110             10.30   \n",
              "3             50.90  ...               88              5.26   \n",
              "4             28.34  ...              122             12.61   \n",
              "\n",
              "   total night minutes  total night calls  total night charge  \\\n",
              "0                244.7                 91               11.01   \n",
              "1                254.4                103               11.45   \n",
              "2                162.6                104                7.32   \n",
              "3                196.9                 89                8.86   \n",
              "4                186.9                121                8.41   \n",
              "\n",
              "   total intl minutes  total intl calls  total intl charge  \\\n",
              "0                10.0                 3               2.70   \n",
              "1                13.7                 3               3.70   \n",
              "2                12.2                 5               3.29   \n",
              "3                 6.6                 7               1.78   \n",
              "4                10.1                 3               2.73   \n",
              "\n",
              "   customer service calls  churn  \n",
              "0                       1  False  \n",
              "1                       1  False  \n",
              "2                       0  False  \n",
              "3                       2  False  \n",
              "4                       3  False  \n",
              "\n",
              "[5 rows x 21 columns]"
            ],
            "text/html": [
              "\n",
              "  <div id=\"df-40bc8bf8-392b-4373-b796-1dead6d9ae74\" class=\"colab-df-container\">\n",
              "    <div>\n",
              "<style scoped>\n",
              "    .dataframe tbody tr th:only-of-type {\n",
              "        vertical-align: middle;\n",
              "    }\n",
              "\n",
              "    .dataframe tbody tr th {\n",
              "        vertical-align: top;\n",
              "    }\n",
              "\n",
              "    .dataframe thead th {\n",
              "        text-align: right;\n",
              "    }\n",
              "</style>\n",
              "<table border=\"1\" class=\"dataframe\">\n",
              "  <thead>\n",
              "    <tr style=\"text-align: right;\">\n",
              "      <th></th>\n",
              "      <th>state</th>\n",
              "      <th>account length</th>\n",
              "      <th>area code</th>\n",
              "      <th>phone number</th>\n",
              "      <th>international plan</th>\n",
              "      <th>voice mail plan</th>\n",
              "      <th>number vmail messages</th>\n",
              "      <th>total day minutes</th>\n",
              "      <th>total day calls</th>\n",
              "      <th>total day charge</th>\n",
              "      <th>...</th>\n",
              "      <th>total eve calls</th>\n",
              "      <th>total eve charge</th>\n",
              "      <th>total night minutes</th>\n",
              "      <th>total night calls</th>\n",
              "      <th>total night charge</th>\n",
              "      <th>total intl minutes</th>\n",
              "      <th>total intl calls</th>\n",
              "      <th>total intl charge</th>\n",
              "      <th>customer service calls</th>\n",
              "      <th>churn</th>\n",
              "    </tr>\n",
              "  </thead>\n",
              "  <tbody>\n",
              "    <tr>\n",
              "      <th>0</th>\n",
              "      <td>KS</td>\n",
              "      <td>128</td>\n",
              "      <td>415</td>\n",
              "      <td>382-4657</td>\n",
              "      <td>no</td>\n",
              "      <td>yes</td>\n",
              "      <td>25</td>\n",
              "      <td>265.1</td>\n",
              "      <td>110</td>\n",
              "      <td>45.07</td>\n",
              "      <td>...</td>\n",
              "      <td>99</td>\n",
              "      <td>16.78</td>\n",
              "      <td>244.7</td>\n",
              "      <td>91</td>\n",
              "      <td>11.01</td>\n",
              "      <td>10.0</td>\n",
              "      <td>3</td>\n",
              "      <td>2.70</td>\n",
              "      <td>1</td>\n",
              "      <td>False</td>\n",
              "    </tr>\n",
              "    <tr>\n",
              "      <th>1</th>\n",
              "      <td>OH</td>\n",
              "      <td>107</td>\n",
              "      <td>415</td>\n",
              "      <td>371-7191</td>\n",
              "      <td>no</td>\n",
              "      <td>yes</td>\n",
              "      <td>26</td>\n",
              "      <td>161.6</td>\n",
              "      <td>123</td>\n",
              "      <td>27.47</td>\n",
              "      <td>...</td>\n",
              "      <td>103</td>\n",
              "      <td>16.62</td>\n",
              "      <td>254.4</td>\n",
              "      <td>103</td>\n",
              "      <td>11.45</td>\n",
              "      <td>13.7</td>\n",
              "      <td>3</td>\n",
              "      <td>3.70</td>\n",
              "      <td>1</td>\n",
              "      <td>False</td>\n",
              "    </tr>\n",
              "    <tr>\n",
              "      <th>2</th>\n",
              "      <td>NJ</td>\n",
              "      <td>137</td>\n",
              "      <td>415</td>\n",
              "      <td>358-1921</td>\n",
              "      <td>no</td>\n",
              "      <td>no</td>\n",
              "      <td>0</td>\n",
              "      <td>243.4</td>\n",
              "      <td>114</td>\n",
              "      <td>41.38</td>\n",
              "      <td>...</td>\n",
              "      <td>110</td>\n",
              "      <td>10.30</td>\n",
              "      <td>162.6</td>\n",
              "      <td>104</td>\n",
              "      <td>7.32</td>\n",
              "      <td>12.2</td>\n",
              "      <td>5</td>\n",
              "      <td>3.29</td>\n",
              "      <td>0</td>\n",
              "      <td>False</td>\n",
              "    </tr>\n",
              "    <tr>\n",
              "      <th>3</th>\n",
              "      <td>OH</td>\n",
              "      <td>84</td>\n",
              "      <td>408</td>\n",
              "      <td>375-9999</td>\n",
              "      <td>yes</td>\n",
              "      <td>no</td>\n",
              "      <td>0</td>\n",
              "      <td>299.4</td>\n",
              "      <td>71</td>\n",
              "      <td>50.90</td>\n",
              "      <td>...</td>\n",
              "      <td>88</td>\n",
              "      <td>5.26</td>\n",
              "      <td>196.9</td>\n",
              "      <td>89</td>\n",
              "      <td>8.86</td>\n",
              "      <td>6.6</td>\n",
              "      <td>7</td>\n",
              "      <td>1.78</td>\n",
              "      <td>2</td>\n",
              "      <td>False</td>\n",
              "    </tr>\n",
              "    <tr>\n",
              "      <th>4</th>\n",
              "      <td>OK</td>\n",
              "      <td>75</td>\n",
              "      <td>415</td>\n",
              "      <td>330-6626</td>\n",
              "      <td>yes</td>\n",
              "      <td>no</td>\n",
              "      <td>0</td>\n",
              "      <td>166.7</td>\n",
              "      <td>113</td>\n",
              "      <td>28.34</td>\n",
              "      <td>...</td>\n",
              "      <td>122</td>\n",
              "      <td>12.61</td>\n",
              "      <td>186.9</td>\n",
              "      <td>121</td>\n",
              "      <td>8.41</td>\n",
              "      <td>10.1</td>\n",
              "      <td>3</td>\n",
              "      <td>2.73</td>\n",
              "      <td>3</td>\n",
              "      <td>False</td>\n",
              "    </tr>\n",
              "  </tbody>\n",
              "</table>\n",
              "<p>5 rows × 21 columns</p>\n",
              "</div>\n",
              "    <div class=\"colab-df-buttons\">\n",
              "\n",
              "  <div class=\"colab-df-container\">\n",
              "    <button class=\"colab-df-convert\" onclick=\"convertToInteractive('df-40bc8bf8-392b-4373-b796-1dead6d9ae74')\"\n",
              "            title=\"Convert this dataframe to an interactive table.\"\n",
              "            style=\"display:none;\">\n",
              "\n",
              "  <svg xmlns=\"http://www.w3.org/2000/svg\" height=\"24px\" viewBox=\"0 -960 960 960\">\n",
              "    <path d=\"M120-120v-720h720v720H120Zm60-500h600v-160H180v160Zm220 220h160v-160H400v160Zm0 220h160v-160H400v160ZM180-400h160v-160H180v160Zm440 0h160v-160H620v160ZM180-180h160v-160H180v160Zm440 0h160v-160H620v160Z\"/>\n",
              "  </svg>\n",
              "    </button>\n",
              "\n",
              "  <style>\n",
              "    .colab-df-container {\n",
              "      display:flex;\n",
              "      gap: 12px;\n",
              "    }\n",
              "\n",
              "    .colab-df-convert {\n",
              "      background-color: #E8F0FE;\n",
              "      border: none;\n",
              "      border-radius: 50%;\n",
              "      cursor: pointer;\n",
              "      display: none;\n",
              "      fill: #1967D2;\n",
              "      height: 32px;\n",
              "      padding: 0 0 0 0;\n",
              "      width: 32px;\n",
              "    }\n",
              "\n",
              "    .colab-df-convert:hover {\n",
              "      background-color: #E2EBFA;\n",
              "      box-shadow: 0px 1px 2px rgba(60, 64, 67, 0.3), 0px 1px 3px 1px rgba(60, 64, 67, 0.15);\n",
              "      fill: #174EA6;\n",
              "    }\n",
              "\n",
              "    .colab-df-buttons div {\n",
              "      margin-bottom: 4px;\n",
              "    }\n",
              "\n",
              "    [theme=dark] .colab-df-convert {\n",
              "      background-color: #3B4455;\n",
              "      fill: #D2E3FC;\n",
              "    }\n",
              "\n",
              "    [theme=dark] .colab-df-convert:hover {\n",
              "      background-color: #434B5C;\n",
              "      box-shadow: 0px 1px 3px 1px rgba(0, 0, 0, 0.15);\n",
              "      filter: drop-shadow(0px 1px 2px rgba(0, 0, 0, 0.3));\n",
              "      fill: #FFFFFF;\n",
              "    }\n",
              "  </style>\n",
              "\n",
              "    <script>\n",
              "      const buttonEl =\n",
              "        document.querySelector('#df-40bc8bf8-392b-4373-b796-1dead6d9ae74 button.colab-df-convert');\n",
              "      buttonEl.style.display =\n",
              "        google.colab.kernel.accessAllowed ? 'block' : 'none';\n",
              "\n",
              "      async function convertToInteractive(key) {\n",
              "        const element = document.querySelector('#df-40bc8bf8-392b-4373-b796-1dead6d9ae74');\n",
              "        const dataTable =\n",
              "          await google.colab.kernel.invokeFunction('convertToInteractive',\n",
              "                                                    [key], {});\n",
              "        if (!dataTable) return;\n",
              "\n",
              "        const docLinkHtml = 'Like what you see? Visit the ' +\n",
              "          '<a target=\"_blank\" href=https://colab.research.google.com/notebooks/data_table.ipynb>data table notebook</a>'\n",
              "          + ' to learn more about interactive tables.';\n",
              "        element.innerHTML = '';\n",
              "        dataTable['output_type'] = 'display_data';\n",
              "        await google.colab.output.renderOutput(dataTable, element);\n",
              "        const docLink = document.createElement('div');\n",
              "        docLink.innerHTML = docLinkHtml;\n",
              "        element.appendChild(docLink);\n",
              "      }\n",
              "    </script>\n",
              "  </div>\n",
              "\n",
              "\n",
              "<div id=\"df-8fe2274b-f682-44f1-b807-85f3adb9a5e1\">\n",
              "  <button class=\"colab-df-quickchart\" onclick=\"quickchart('df-8fe2274b-f682-44f1-b807-85f3adb9a5e1')\"\n",
              "            title=\"Suggest charts\"\n",
              "            style=\"display:none;\">\n",
              "\n",
              "<svg xmlns=\"http://www.w3.org/2000/svg\" height=\"24px\"viewBox=\"0 0 24 24\"\n",
              "     width=\"24px\">\n",
              "    <g>\n",
              "        <path d=\"M19 3H5c-1.1 0-2 .9-2 2v14c0 1.1.9 2 2 2h14c1.1 0 2-.9 2-2V5c0-1.1-.9-2-2-2zM9 17H7v-7h2v7zm4 0h-2V7h2v10zm4 0h-2v-4h2v4z\"/>\n",
              "    </g>\n",
              "</svg>\n",
              "  </button>\n",
              "\n",
              "<style>\n",
              "  .colab-df-quickchart {\n",
              "      --bg-color: #E8F0FE;\n",
              "      --fill-color: #1967D2;\n",
              "      --hover-bg-color: #E2EBFA;\n",
              "      --hover-fill-color: #174EA6;\n",
              "      --disabled-fill-color: #AAA;\n",
              "      --disabled-bg-color: #DDD;\n",
              "  }\n",
              "\n",
              "  [theme=dark] .colab-df-quickchart {\n",
              "      --bg-color: #3B4455;\n",
              "      --fill-color: #D2E3FC;\n",
              "      --hover-bg-color: #434B5C;\n",
              "      --hover-fill-color: #FFFFFF;\n",
              "      --disabled-bg-color: #3B4455;\n",
              "      --disabled-fill-color: #666;\n",
              "  }\n",
              "\n",
              "  .colab-df-quickchart {\n",
              "    background-color: var(--bg-color);\n",
              "    border: none;\n",
              "    border-radius: 50%;\n",
              "    cursor: pointer;\n",
              "    display: none;\n",
              "    fill: var(--fill-color);\n",
              "    height: 32px;\n",
              "    padding: 0;\n",
              "    width: 32px;\n",
              "  }\n",
              "\n",
              "  .colab-df-quickchart:hover {\n",
              "    background-color: var(--hover-bg-color);\n",
              "    box-shadow: 0 1px 2px rgba(60, 64, 67, 0.3), 0 1px 3px 1px rgba(60, 64, 67, 0.15);\n",
              "    fill: var(--button-hover-fill-color);\n",
              "  }\n",
              "\n",
              "  .colab-df-quickchart-complete:disabled,\n",
              "  .colab-df-quickchart-complete:disabled:hover {\n",
              "    background-color: var(--disabled-bg-color);\n",
              "    fill: var(--disabled-fill-color);\n",
              "    box-shadow: none;\n",
              "  }\n",
              "\n",
              "  .colab-df-spinner {\n",
              "    border: 2px solid var(--fill-color);\n",
              "    border-color: transparent;\n",
              "    border-bottom-color: var(--fill-color);\n",
              "    animation:\n",
              "      spin 1s steps(1) infinite;\n",
              "  }\n",
              "\n",
              "  @keyframes spin {\n",
              "    0% {\n",
              "      border-color: transparent;\n",
              "      border-bottom-color: var(--fill-color);\n",
              "      border-left-color: var(--fill-color);\n",
              "    }\n",
              "    20% {\n",
              "      border-color: transparent;\n",
              "      border-left-color: var(--fill-color);\n",
              "      border-top-color: var(--fill-color);\n",
              "    }\n",
              "    30% {\n",
              "      border-color: transparent;\n",
              "      border-left-color: var(--fill-color);\n",
              "      border-top-color: var(--fill-color);\n",
              "      border-right-color: var(--fill-color);\n",
              "    }\n",
              "    40% {\n",
              "      border-color: transparent;\n",
              "      border-right-color: var(--fill-color);\n",
              "      border-top-color: var(--fill-color);\n",
              "    }\n",
              "    60% {\n",
              "      border-color: transparent;\n",
              "      border-right-color: var(--fill-color);\n",
              "    }\n",
              "    80% {\n",
              "      border-color: transparent;\n",
              "      border-right-color: var(--fill-color);\n",
              "      border-bottom-color: var(--fill-color);\n",
              "    }\n",
              "    90% {\n",
              "      border-color: transparent;\n",
              "      border-bottom-color: var(--fill-color);\n",
              "    }\n",
              "  }\n",
              "</style>\n",
              "\n",
              "  <script>\n",
              "    async function quickchart(key) {\n",
              "      const quickchartButtonEl =\n",
              "        document.querySelector('#' + key + ' button');\n",
              "      quickchartButtonEl.disabled = true;  // To prevent multiple clicks.\n",
              "      quickchartButtonEl.classList.add('colab-df-spinner');\n",
              "      try {\n",
              "        const charts = await google.colab.kernel.invokeFunction(\n",
              "            'suggestCharts', [key], {});\n",
              "      } catch (error) {\n",
              "        console.error('Error during call to suggestCharts:', error);\n",
              "      }\n",
              "      quickchartButtonEl.classList.remove('colab-df-spinner');\n",
              "      quickchartButtonEl.classList.add('colab-df-quickchart-complete');\n",
              "    }\n",
              "    (() => {\n",
              "      let quickchartButtonEl =\n",
              "        document.querySelector('#df-8fe2274b-f682-44f1-b807-85f3adb9a5e1 button');\n",
              "      quickchartButtonEl.style.display =\n",
              "        google.colab.kernel.accessAllowed ? 'block' : 'none';\n",
              "    })();\n",
              "  </script>\n",
              "</div>\n",
              "\n",
              "    </div>\n",
              "  </div>\n"
            ],
            "application/vnd.google.colaboratory.intrinsic+json": {
              "type": "dataframe",
              "variable_name": "churn"
            }
          },
          "metadata": {},
          "execution_count": 3
        }
      ]
    },
    {
      "cell_type": "markdown",
      "source": [
        "### Verifica cuántas filas y columnas tiene el dataset."
      ],
      "metadata": {
        "id": "Mgj4zbr46Iv8"
      }
    },
    {
      "cell_type": "code",
      "execution_count": 4,
      "metadata": {
        "id": "wD4pc5eKyjo2",
        "outputId": "61738157-47fd-41fc-c098-f377280b841a",
        "colab": {
          "base_uri": "https://localhost:8080/"
        }
      },
      "outputs": [
        {
          "output_type": "stream",
          "name": "stdout",
          "text": [
            "El dataset tiene 3333 filas y 21 columnas.\n"
          ]
        }
      ],
      "source": [
        "#Verifica cuántas filas y columnas tiene el dataset.\n",
        "filas, columnas = churn.shape\n",
        "\n",
        "# Mostrar el resultado\n",
        "print(f\"El dataset tiene {filas} filas y {columnas} columnas.\")"
      ]
    },
    {
      "cell_type": "markdown",
      "source": [
        "### Muestra información general del dataset, incluyendo los tipos de datos."
      ],
      "metadata": {
        "id": "MIebPRMB6Vd-"
      }
    },
    {
      "cell_type": "code",
      "execution_count": 5,
      "metadata": {
        "id": "Gw3ceYHLyjo3",
        "outputId": "ea9a7fba-439d-4be9-8974-0f67ed4d6785",
        "colab": {
          "base_uri": "https://localhost:8080/"
        }
      },
      "outputs": [
        {
          "output_type": "stream",
          "name": "stdout",
          "text": [
            "<class 'pandas.core.frame.DataFrame'>\n",
            "RangeIndex: 3333 entries, 0 to 3332\n",
            "Data columns (total 21 columns):\n",
            " #   Column                  Non-Null Count  Dtype  \n",
            "---  ------                  --------------  -----  \n",
            " 0   state                   3333 non-null   object \n",
            " 1   account length          3333 non-null   int64  \n",
            " 2   area code               3333 non-null   int64  \n",
            " 3   phone number            3333 non-null   object \n",
            " 4   international plan      3333 non-null   object \n",
            " 5   voice mail plan         3333 non-null   object \n",
            " 6   number vmail messages   3333 non-null   int64  \n",
            " 7   total day minutes       3333 non-null   float64\n",
            " 8   total day calls         3333 non-null   int64  \n",
            " 9   total day charge        3333 non-null   float64\n",
            " 10  total eve minutes       3333 non-null   float64\n",
            " 11  total eve calls         3333 non-null   int64  \n",
            " 12  total eve charge        3333 non-null   float64\n",
            " 13  total night minutes     3333 non-null   float64\n",
            " 14  total night calls       3333 non-null   int64  \n",
            " 15  total night charge      3333 non-null   float64\n",
            " 16  total intl minutes      3333 non-null   float64\n",
            " 17  total intl calls        3333 non-null   int64  \n",
            " 18  total intl charge       3333 non-null   float64\n",
            " 19  customer service calls  3333 non-null   int64  \n",
            " 20  churn                   3333 non-null   bool   \n",
            "dtypes: bool(1), float64(8), int64(8), object(4)\n",
            "memory usage: 524.2+ KB\n"
          ]
        }
      ],
      "source": [
        "#Muestra información general del dataset, incluyendo los tipos de datos.\n",
        "\n",
        "churn.info()"
      ]
    },
    {
      "cell_type": "markdown",
      "source": [
        "### Identifica si hay valores nulos en alguna columna."
      ],
      "metadata": {
        "id": "Ii7paPyZ6hMf"
      }
    },
    {
      "cell_type": "code",
      "execution_count": 6,
      "metadata": {
        "id": "GCGdop0syjo3",
        "outputId": "69e72d40-5b20-44fd-906f-722dade97503",
        "colab": {
          "base_uri": "https://localhost:8080/"
        }
      },
      "outputs": [
        {
          "output_type": "stream",
          "name": "stdout",
          "text": [
            "state                     0\n",
            "account length            0\n",
            "area code                 0\n",
            "phone number              0\n",
            "international plan        0\n",
            "voice mail plan           0\n",
            "number vmail messages     0\n",
            "total day minutes         0\n",
            "total day calls           0\n",
            "total day charge          0\n",
            "total eve minutes         0\n",
            "total eve calls           0\n",
            "total eve charge          0\n",
            "total night minutes       0\n",
            "total night calls         0\n",
            "total night charge        0\n",
            "total intl minutes        0\n",
            "total intl calls          0\n",
            "total intl charge         0\n",
            "customer service calls    0\n",
            "churn                     0\n",
            "dtype: int64\n"
          ]
        }
      ],
      "source": [
        "# Identifica si hay valores nulos en alguna columna.\n",
        "\n",
        "# Verificar valores nulos en cada columna\n",
        "valores_nulos = churn.isnull().sum()\n",
        "\n",
        "# Mostrar el resultado\n",
        "print(valores_nulos)"
      ]
    },
    {
      "cell_type": "markdown",
      "source": [
        "## **Análisis de Churn y Factores Relacionados**"
      ],
      "metadata": {
        "id": "YETaNaCr6oG1"
      }
    },
    {
      "cell_type": "markdown",
      "metadata": {
        "id": "PIGXq-ijFgb4"
      },
      "source": [
        "\n",
        "### Calcula el porcentaje de clientes que han desertado (churn = 1).\n",
        "\n"
      ]
    },
    {
      "cell_type": "markdown",
      "metadata": {
        "id": "h6TwXBkTyjo3"
      },
      "source": [
        "$\\text{Tasa de deserción} = \\left( \\frac{\\text{Número de clientes con churn = 1}}{\\text{Número total de clientes}} \\right) \\times 100$\n"
      ]
    },
    {
      "cell_type": "code",
      "execution_count": 7,
      "metadata": {
        "id": "3_TFqdwBwUD-",
        "outputId": "490b5c74-faf4-4b36-e7e9-8a35499d072b",
        "colab": {
          "base_uri": "https://localhost:8080/"
        }
      },
      "outputs": [
        {
          "output_type": "stream",
          "name": "stdout",
          "text": [
            "Total de registros: 3333\n",
            "Cantidad de clientes desestados: 483\n",
            "El porcentaje de clientes que han desertado es: 14.49%\n"
          ]
        }
      ],
      "source": [
        "# Obtener el número clientes que han desertado\n",
        "total_registros = churn.shape[0]\n",
        "\n",
        "clientes_desertados = churn[churn['churn'] == 1].shape[0]\n",
        "\n",
        "# Calcular el porcentaje de clientes que han desertado\n",
        "# porcentaje_desercion = churn['churn'].mean() * 100\n",
        "\n",
        "porcentaje_desercion = clientes_desertados / total_registros *100\n",
        "\n",
        "print(f\"Total de registros: {total_registros}\")\n",
        "print (f\"Cantidad de clientes desestados: {clientes_desertados}\")\n",
        "# Mostrar el resultado\n",
        "print(f\"El porcentaje de clientes que han desertado es: {porcentaje_desercion:.2f}%\")"
      ]
    },
    {
      "cell_type": "markdown",
      "source": [
        "### Identifica si los clientes con plan internacional (international plan) tienen mayor tasa de deserción.\n"
      ],
      "metadata": {
        "id": "JrptYibYn3XD"
      }
    },
    {
      "cell_type": "code",
      "execution_count": 8,
      "metadata": {
        "id": "o05RcDetyjo4",
        "outputId": "6462c746-3940-4cf6-ad22-a72ce95637db",
        "colab": {
          "base_uri": "https://localhost:8080/"
        }
      },
      "outputs": [
        {
          "output_type": "stream",
          "name": "stdout",
          "text": [
            "Tasa de deserción de clientes con plan internacional: 42.41%\n",
            "Tasa de deserción de clientes sin plan internacional: 11.50%\n"
          ]
        }
      ],
      "source": [
        "\n",
        "#Identifica si los clientes con plan internacional (international plan) tienen mayor tasa de deserción.\n",
        "\n",
        "# Filtrar clientes con plan internacional\n",
        "clientes_con_plan_internacional = churn[churn['international plan'] == 'yes']\n",
        "\n",
        "# Filtrar clientes sin plan internacional\n",
        "clientes_sin_plan_internacional = churn[churn['international plan'] == 'no']\n",
        "\n",
        "# Calcular el número de clientes con churn = 1 en cada grupo\n",
        "clientes_con_churn_internacional = clientes_con_plan_internacional[clientes_con_plan_internacional['churn'] == 1].shape[0]\n",
        "clientes_con_churn_sin_internacional = clientes_sin_plan_internacional[clientes_sin_plan_internacional['churn'] == 1].shape[0]\n",
        "\n",
        "# Calcular el número total de clientes en cada grupo\n",
        "total_clientes_internacional = clientes_con_plan_internacional.shape[0]\n",
        "total_clientes_sin_internacional = clientes_sin_plan_internacional.shape[0]\n",
        "\n",
        "# Calcular la tasa de deserción para los clientes con plan internacional\n",
        "tasa_desercion_internacional = (clientes_con_churn_internacional / total_clientes_internacional) * 100\n",
        "\n",
        "# Calcular la tasa de deserción para los clientes sin plan internacional\n",
        "tasa_desercion_sin_internacional = (clientes_con_churn_sin_internacional / total_clientes_sin_internacional) * 100\n",
        "\n",
        "# Mostrar las tasas de deserción\n",
        "print(f\"Tasa de deserción de clientes con plan internacional: {tasa_desercion_internacional:.2f}%\")\n",
        "print(f\"Tasa de deserción de clientes sin plan internacional: {tasa_desercion_sin_internacional:.2f}%\")\n",
        "\n"
      ]
    },
    {
      "cell_type": "markdown",
      "source": [
        "### Identifica si los clientes con buzón de voz (voice mail plan) tienen menor tasa de deserción."
      ],
      "metadata": {
        "id": "nVnNgbx5n7ja"
      }
    },
    {
      "cell_type": "code",
      "execution_count": 9,
      "metadata": {
        "id": "CtrQC9qqyjo4",
        "outputId": "81fb3c51-d4f1-47e4-852d-ca1cf3847c7e",
        "colab": {
          "base_uri": "https://localhost:8080/"
        }
      },
      "outputs": [
        {
          "output_type": "stream",
          "name": "stdout",
          "text": [
            "Tasa de deserción de clientes con voice mail plan: 8.68%\n",
            "Tasa de deserción de clientes sin voice mail plan: 16.72%\n"
          ]
        }
      ],
      "source": [
        "#Identifica si los clientes con buzón de voz (voice mail plan) tienen menor tasa de deserción.\n",
        "\n",
        "# Filtrar clientes con plan voice mail plan\n",
        "clientes_con_voice_mail_plan = churn[churn['voice mail plan'] == 'yes']\n",
        "\n",
        "# Filtrar clientes sin plan internacional\n",
        "clientes_sin_voice_mail_plan = churn[churn['voice mail plan'] == 'no']\n",
        "\n",
        "# Calcular el número de clientes con churn = 1 en cada grupo\n",
        "clientes_con_churn_voice_mail_plan = clientes_con_voice_mail_plan[clientes_con_voice_mail_plan['churn'] == 1].shape[0]\n",
        "clientes_con_churn_sin_voice_mail_plan = clientes_sin_voice_mail_plan[clientes_sin_voice_mail_plan['churn'] == 1].shape[0]\n",
        "\n",
        "# Calcular el número total de clientes en cada grupo\n",
        "total_clientes_voice_mail_plan = clientes_con_voice_mail_plan.shape[0]\n",
        "total_clientes_sin_voice_mail_plan = clientes_sin_voice_mail_plan.shape[0]\n",
        "\n",
        "# Calcular la tasa de deserción para los clientes con voice mail plan\n",
        "tasa_desercion_voice_mail_plan = (clientes_con_churn_voice_mail_plan / total_clientes_voice_mail_plan) * 100\n",
        "\n",
        "# Calcular la tasa de deserción para los clientes sin voice mail plan\n",
        "tasa_desercion_sin_voice_mail_plan = (clientes_con_churn_sin_voice_mail_plan / total_clientes_sin_voice_mail_plan) * 100\n",
        "\n",
        "# Mostrar las tasas de deserción\n",
        "print(f\"Tasa de deserción de clientes con voice mail plan: {tasa_desercion_voice_mail_plan:.2f}%\")\n",
        "print(f\"Tasa de deserción de clientes sin voice mail plan: {tasa_desercion_sin_voice_mail_plan:.2f}%\")"
      ]
    },
    {
      "cell_type": "markdown",
      "metadata": {
        "id": "yL8Y_juFFup7"
      },
      "source": [
        "## **Análisis de la Duración del Servicio y Deserción**\n",
        "\n"
      ]
    },
    {
      "cell_type": "markdown",
      "source": [
        "### ¿Cuál es la duración promedio de la cuenta (account length) entre clientes que desertaron y los que permanecen?"
      ],
      "metadata": {
        "id": "eV3eQsLCqu4K"
      }
    },
    {
      "cell_type": "code",
      "execution_count": 10,
      "metadata": {
        "id": "7ViU0n6lGFao",
        "outputId": "9db87c1e-fe1e-47c6-ea15-c723b5de3fad",
        "colab": {
          "base_uri": "https://localhost:8080/"
        }
      },
      "outputs": [
        {
          "output_type": "stream",
          "name": "stdout",
          "text": [
            "Duración promedio de la cuenta para clientes que desertaron: 103 dias\n",
            "Duración promedio de la cuenta para clientes que permanecen: 101 dias\n"
          ]
        }
      ],
      "source": [
        "# ¿Cuál es la duración promedio de la cuenta (account length) entre clientes que desertaron y los que permanecen?\n",
        "\n",
        "# Filtrar clientes que desertaron\n",
        "clientes_desertaron = churn[churn['churn'] == 1]\n",
        "\n",
        "# Filtrar clientes que permanecen\n",
        "clientes_permanecen = churn[churn['churn'] == 0]\n",
        "\n",
        "# Calcular la duración promedio para clientes que desertaron\n",
        "duracion_promedio_desertaron = clientes_desertaron['account length'].mean()\n",
        "\n",
        "# Calcular la duración promedio para clientes que permanecen\n",
        "duracion_promedio_permanecen = clientes_permanecen['account length'].mean()\n",
        "\n",
        "# Mostrar los resultados\n",
        "print(f\"Duración promedio de la cuenta para clientes que desertaron: {duracion_promedio_desertaron:.0f} dias\")\n",
        "print(f\"Duración promedio de la cuenta para clientes que permanecen: {duracion_promedio_permanecen:.0f} dias\")\n",
        "\n"
      ]
    },
    {
      "cell_type": "markdown",
      "metadata": {
        "id": "vyaa82K0GF6B"
      },
      "source": [
        "## **Relación entre Deserción y Uso del Servicio**"
      ]
    },
    {
      "cell_type": "markdown",
      "source": [
        "### Compara la cantidad de minutos usados en llamadas diurnas (total day minutes) entre clientes con y sin churn.\n",
        "\n"
      ],
      "metadata": {
        "id": "Zu3D9KyUrBh0"
      }
    },
    {
      "cell_type": "code",
      "execution_count": 11,
      "metadata": {
        "id": "d4aPKcv2GrpL",
        "outputId": "778115a1-7340-4a77-aa0c-e819798a6e53",
        "colab": {
          "base_uri": "https://localhost:8080/"
        }
      },
      "outputs": [
        {
          "output_type": "stream",
          "name": "stdout",
          "text": [
            "Duración minutos usados en llamadas diurnas para clientes que desertaron: 99,940 minutos\n",
            "Duración minutos usados en llamadas diurnas para clientes que permanecen: 499,251 minutos\n"
          ]
        }
      ],
      "source": [
        "#Compara la cantidad de minutos usados en llamadas diurnas (total day minutes) entre clientes con y sin churn.\n",
        "\n",
        "# Filtrar clientes que desertaron\n",
        "clientes_desertaron = churn[churn['churn'] == 1]\n",
        "\n",
        "# Filtrar clientes que permanecen\n",
        "clientes_permanecen = churn[churn['churn'] == 0]\n",
        "\n",
        "# Calcular la duración minutos para clientes que desertaron\n",
        "duracion_minutos_desertaron = clientes_desertaron['total day minutes'].sum()\n",
        "\n",
        "# Calcular la duración minutos para clientes que permanecen\n",
        "duracion_minutos_permanecen = clientes_permanecen['total day minutes'].sum()\n",
        "\n",
        "# Mostrar los resultados\n",
        "print(f\"Duración minutos usados en llamadas diurnas para clientes que desertaron: {duracion_minutos_desertaron:,.0f} minutos\")\n",
        "print(f\"Duración minutos usados en llamadas diurnas para clientes que permanecen: {duracion_minutos_permanecen:,.0f} minutos\")\n"
      ]
    },
    {
      "cell_type": "markdown",
      "source": [
        "### Compara la cantidad de minutos usados en llamadas nocturnas (total night minutes).\n"
      ],
      "metadata": {
        "id": "ZomjpPD_rIaO"
      }
    },
    {
      "cell_type": "code",
      "execution_count": 12,
      "metadata": {
        "id": "LjfyY03Ryjo5",
        "outputId": "e8d8de18-b3d0-4ba8-a718-080090feb7ff",
        "colab": {
          "base_uri": "https://localhost:8080/"
        }
      },
      "outputs": [
        {
          "output_type": "stream",
          "name": "stdout",
          "text": [
            "Duración minutos usados en llamadas nocturnas para clientes que desertaron: 99,127 minutos\n",
            "Duración minutos usados en llamadas nocturnas para clientes que permanecen: 570,380 minutos\n"
          ]
        }
      ],
      "source": [
        "#Compara la cantidad de minutos usados en llamadas nocturnas (total night minutes).\n",
        "\n",
        "# Filtrar clientes que desertaron\n",
        "clientes_desertaron = churn[churn['churn'] == 1]\n",
        "\n",
        "# Filtrar clientes que permanecen\n",
        "clientes_permanecen = churn[churn['churn'] == 0]\n",
        "\n",
        "# Calcular la duración minutos para clientes que desertaron\n",
        "duracion_minutos_desertaron = clientes_desertaron['total night minutes'].sum()\n",
        "\n",
        "# Calcular la duración minutos para clientes que permanecen\n",
        "duracion_minutos_permanecen = clientes_permanecen['total night minutes'].sum()\n",
        "\n",
        "# Mostrar los resultados\n",
        "print(f\"Duración minutos usados en llamadas nocturnas para clientes que desertaron: {duracion_minutos_desertaron:,.0f} minutos\")\n",
        "print(f\"Duración minutos usados en llamadas nocturnas para clientes que permanecen: {duracion_minutos_permanecen:,.0f} minutos\")\n"
      ]
    },
    {
      "cell_type": "markdown",
      "source": [
        "### Compara el número total de llamadas (total day calls) entre clientes con y sin churn."
      ],
      "metadata": {
        "id": "rMl0FkqYrLMy"
      }
    },
    {
      "cell_type": "code",
      "execution_count": 13,
      "metadata": {
        "id": "YtIEjVKkyjo5",
        "outputId": "d59e521a-6fa2-4384-d1b3-696ebe145a7d",
        "colab": {
          "base_uri": "https://localhost:8080/"
        }
      },
      "outputs": [
        {
          "output_type": "stream",
          "name": "stdout",
          "text": [
            "Total de llamadas diurnas para clientes que desertaron: 48,945 minutos\n",
            "Total de llamadas diurnas para clientes que permanecen: 285,807 minutos\n"
          ]
        }
      ],
      "source": [
        "#Compara el número total de llamadas (total day calls) entre clientes con y sin churn.\n",
        "\n",
        "# Filtrar clientes que desertaron\n",
        "clientes_desertaron = churn[churn['churn'] == 1]\n",
        "\n",
        "# Filtrar clientes que permanecen\n",
        "clientes_permanecen = churn[churn['churn'] == 0]\n",
        "\n",
        "# Calcular el total de llamdas diurnas para clientes que desertaron\n",
        "duracion_minutos_desertaron = clientes_desertaron['total day calls'].sum()\n",
        "\n",
        "# Calcular el total de llamdas diurnas para clientes que permanecen\n",
        "duracion_minutos_permanecen = clientes_permanecen['total day calls'].sum()\n",
        "\n",
        "# Mostrar los resultados\n",
        "print(f\"Total de llamadas diurnas para clientes que desertaron: {duracion_minutos_desertaron:,.0f} minutos\")\n",
        "print(f\"Total de llamadas diurnas para clientes que permanecen: {duracion_minutos_permanecen:,.0f} minutos\")\n"
      ]
    },
    {
      "cell_type": "markdown",
      "metadata": {
        "id": "aKl9LnZgGsDT"
      },
      "source": [
        "## **Impacto de las Llamadas al Servicio al Cliente en la Deserción**\n",
        "\n"
      ]
    },
    {
      "cell_type": "markdown",
      "source": [
        "### Calcula el número promedio de llamadas al servicio al cliente (customer service calls) entre clientes que desertaron y los que no.\n",
        "\n"
      ],
      "metadata": {
        "id": "mLnpO5U1rbp0"
      }
    },
    {
      "cell_type": "code",
      "execution_count": 14,
      "metadata": {
        "id": "ac9qDXgrGz-M",
        "outputId": "c9063141-c426-4b81-b5b5-270b44509b1b",
        "colab": {
          "base_uri": "https://localhost:8080/"
        }
      },
      "outputs": [
        {
          "output_type": "stream",
          "name": "stdout",
          "text": [
            "Promedio de llamadas al servicio al cliente para clientes que desertaron: 2.23 llamadas\n",
            "Promedio de llamadas al servicio al cliente para clientes que permanecen: 1.45 llamadas\n"
          ]
        }
      ],
      "source": [
        "# ¿Cuál es el promedio de llamadas al servicio al cliente (customer service calls) entre clientes que desertaron y los que no?\n",
        "\n",
        "# Filtrar clientes que desertaron\n",
        "clientes_desertaron = churn[churn['churn'] == 1]\n",
        "\n",
        "# Filtrar clientes que permanecen\n",
        "clientes_permanecen = churn[churn['churn'] == 0]\n",
        "\n",
        "# Calcular promedio de llamadas al servicio al cliente para clientes que desertaron\n",
        "duracion_promedio_desertaron = clientes_desertaron['customer service calls'].mean()\n",
        "\n",
        "# Calcular promedio de llamadas al servicio al cliente para clientes que permanecen\n",
        "duracion_promedio_permanecen = clientes_permanecen['customer service calls'].mean()\n",
        "\n",
        "# Mostrar los resultados\n",
        "print(f\"Promedio de llamadas al servicio al cliente para clientes que desertaron: {duracion_promedio_desertaron:.2f} llamadas\")\n",
        "print(f\"Promedio de llamadas al servicio al cliente para clientes que permanecen: {duracion_promedio_permanecen:.2f} llamadas\")"
      ]
    },
    {
      "cell_type": "markdown",
      "source": [
        "### Divide los clientes en dos grupos:\n",
        "\n",
        "- Grupo 1: Clientes que llamaron más de 3 veces al servicio al cliente.\n",
        "- Grupo 2: Clientes que llamaron 3 veces o menos.\n",
        "- Compara la tasa de churn entre ambos grupos."
      ],
      "metadata": {
        "id": "ZpqSSeU3rhIb"
      }
    },
    {
      "cell_type": "code",
      "execution_count": 5,
      "metadata": {
        "colab": {
          "base_uri": "https://localhost:8080/"
        },
        "id": "9-rAlabCyjo6",
        "outputId": "db179f0d-e576-4286-90b5-701dd5a02a14"
      },
      "outputs": [
        {
          "output_type": "stream",
          "name": "stdout",
          "text": [
            "\n",
            "Grupo 1:\n",
            "Clientes que llamaron más de 3 veces al servicio al cliente: 267\n",
            "El porcentaje de clientes con churn que llamaron más de 3 veces al servicio al cliente: 4.14%\n",
            "\n",
            "Grupo 2:\n",
            "Clientes que llamaron menos de 3 veces al servicio al cliente: 1878\n",
            "El porcentaje de clientes con churn que llamaron menos de 3 veces al servicio al cliente: 6.42%\n"
          ]
        }
      ],
      "source": [
        "# Divide los clientes en dos grupos:\n",
        "\n",
        "# - Grupo 1: Clientes que llamaron más de 3 veces al servicio al cliente.\n",
        "# - Grupo 2: Clientes que llamaron 3 veces o menos.\n",
        "# Compara la tasa de churn entre ambos grupos.\n",
        "\n",
        "# Filtrar clientes mas de 3 llamadas\n",
        "clientes_que_llamaron_mas_3 = churn[churn['customer service calls'] > 3]\n",
        "\n",
        "# Calcular el número de clientes que llamaron más de 3 veces al servicio al cliente.\n",
        "clientes_mas_de_3_veces = clientes_que_llamaron_mas_3.shape[0]\n",
        "\n",
        "# Filtrar clientes menos de 3 llamadas\n",
        "clientes_que_llamaron_menos_3 = churn[churn['customer service calls'] <=3 & (churn['customer service calls'] > 0)]\n",
        "\n",
        "# Calcular el número de clientes que llamaron menos de 3 veces al servicio al cliente.\n",
        "clientes_con_menos_3_veces = clientes_que_llamaron_menos_3.shape[0]\n",
        "\n",
        "# Calcular el número de clientes con churn = 1 en cada grupo\n",
        "clientes_con_churn_mas_de_3_veces = clientes_que_llamaron_mas_3[clientes_que_llamaron_mas_3['churn'] == 1].shape[0]\n",
        "clientes_con_churn_menos_3_veces = clientes_que_llamaron_menos_3[clientes_que_llamaron_menos_3['churn'] == 1].shape[0]\n",
        "\n",
        "\n",
        "\n",
        "\n",
        "# Obtener el número clientes\n",
        "total_registros = churn.shape[0]\n",
        "\n",
        "# Calcular el porcentaje de clientes con churn con mas de 3 llamadas\n",
        "porcentaje_mas_de_3 = clientes_con_churn_mas_de_3_veces / total_registros *100\n",
        "\n",
        "# Calcular el porcentaje de clientes con churn con menos de 3 llamadas\n",
        "porcentaje_menos_de_3 = clientes_con_churn_menos_3_veces / total_registros *100\n",
        "\n",
        "print(f\"\\nGrupo 1:\")\n",
        "print(f\"Clientes que llamaron más de 3 veces al servicio al cliente: {clientes_mas_de_3_veces:.0f}\")\n",
        "print(f\"El porcentaje de clientes con churn que llamaron más de 3 veces al servicio al cliente: {porcentaje_mas_de_3:.2f}%\")\n",
        "\n",
        "print(f\"\\nGrupo 2:\")\n",
        "print(f\"Clientes que llamaron menos de 3 veces al servicio al cliente: {clientes_con_menos_3_veces:.0f}\")\n",
        "print(f\"El porcentaje de clientes con churn que llamaron menos de 3 veces al servicio al cliente: {porcentaje_menos_de_3:.2f}%\")"
      ]
    },
    {
      "cell_type": "markdown",
      "metadata": {
        "id": "U7oTziiyG0Wb"
      },
      "source": [
        "## **Análisis del Costo de las Llamadas y Churn**\n"
      ]
    },
    {
      "cell_type": "markdown",
      "source": [
        "### Compara el costo total de llamadas diurnas (total day charge) entre clientes con y sin churn.\n",
        "\n"
      ],
      "metadata": {
        "id": "zBMa558Pr5rM"
      }
    },
    {
      "cell_type": "code",
      "execution_count": 16,
      "metadata": {
        "id": "YWGmcLdoIYwx",
        "outputId": "dde33a17-366b-4292-966a-d9bd94f0321c",
        "colab": {
          "base_uri": "https://localhost:8080/"
        }
      },
      "outputs": [
        {
          "output_type": "stream",
          "name": "stdout",
          "text": [
            "Costo total de llamadas diurnas para clientes que desertaron: $16,989.97\n",
            "Costo total de llamadas diurnas para clientes que permanecen: $84,874.20\n"
          ]
        }
      ],
      "source": [
        "#Compara el costo total de llamadas diurnas (total day charge) entre clientes con y sin churn.\n",
        "\n",
        "# Filtrar clientes que desertaron\n",
        "clientes_desertaron = churn[churn['churn'] == 1]\n",
        "\n",
        "# Filtrar clientes que permanecen\n",
        "clientes_permanecen = churn[churn['churn'] == 0]\n",
        "\n",
        "# Calcular el costo total de llamadas diurnas para clientes que desertaron\n",
        "costo_llamadas_diurnas_desertaron = clientes_desertaron['total day charge'].sum()\n",
        "\n",
        "# Calcular el costo total de llamadas diurnas para clientes que permanecen\n",
        "costo_llamadas_diurnas_permanecen = clientes_permanecen['total day charge'].sum()\n",
        "\n",
        "# Mostrar los resultados\n",
        "print(f\"Costo total de llamadas diurnas para clientes que desertaron: ${costo_llamadas_diurnas_desertaron:,.2f}\")\n",
        "print(f\"Costo total de llamadas diurnas para clientes que permanecen: ${costo_llamadas_diurnas_permanecen:,.2f}\")"
      ]
    },
    {
      "cell_type": "markdown",
      "source": [
        "Compara el costo total de llamadas nocturnas (total night charge)."
      ],
      "metadata": {
        "id": "nFeAHaCyr_Zx"
      }
    },
    {
      "cell_type": "code",
      "execution_count": 17,
      "metadata": {
        "id": "-R4W_UQKyjo6",
        "outputId": "51d97061-a683-4a9e-999f-4676642d0bd7",
        "colab": {
          "base_uri": "https://localhost:8080/"
        }
      },
      "outputs": [
        {
          "output_type": "stream",
          "name": "stdout",
          "text": [
            "Costo total de llamadas nocturnas para clientes que desertaron: $4,460.76\n",
            "Costo total de llamadas nocturnas para clientes que permanecen: $25,667.31\n"
          ]
        }
      ],
      "source": [
        "#Compara el costo total de llamadas nocturnas (total night charge) entre clientes con y sin churn.\n",
        "\n",
        "# Filtrar clientes que desertaron\n",
        "clientes_desertaron = churn[churn['churn'] == 1]\n",
        "\n",
        "# Filtrar clientes que permanecen\n",
        "clientes_permanecen = churn[churn['churn'] == 0]\n",
        "\n",
        "# Calcular el costo total de llamadas nocturnas para clientes que desertaron\n",
        "costo_llamadas_nocturnas_desertaron = clientes_desertaron['total night charge'].sum()\n",
        "\n",
        "# Calcular el costo total de llamadas nocturnas para clientes que permanecen\n",
        "costo_llamadas_nocturnas_permanecen = clientes_permanecen['total night charge'].sum()\n",
        "\n",
        "# Mostrar los resultados\n",
        "print(f\"Costo total de llamadas nocturnas para clientes que desertaron: ${costo_llamadas_nocturnas_desertaron:,.2f}\")\n",
        "print(f\"Costo total de llamadas nocturnas para clientes que permanecen: ${costo_llamadas_nocturnas_permanecen:,.2f}\")"
      ]
    }
  ],
  "metadata": {
    "colab": {
      "provenance": [],
      "collapsed_sections": [
        "-gqRGJ8yFs5Y",
        "YETaNaCr6oG1",
        "yL8Y_juFFup7",
        "vyaa82K0GF6B",
        "aKl9LnZgGsDT",
        "U7oTziiyG0Wb"
      ],
      "toc_visible": true,
      "include_colab_link": true
    },
    "kernelspec": {
      "display_name": "base",
      "language": "python",
      "name": "python3"
    },
    "language_info": {
      "codemirror_mode": {
        "name": "ipython",
        "version": 3
      },
      "file_extension": ".py",
      "mimetype": "text/x-python",
      "name": "python",
      "nbconvert_exporter": "python",
      "pygments_lexer": "ipython3",
      "version": "3.12.7"
    }
  },
  "nbformat": 4,
  "nbformat_minor": 0
}