{
  "cells": [
    {
      "cell_type": "markdown",
      "metadata": {
        "id": "view-in-github",
        "colab_type": "text"
      },
      "source": [
        "<a href=\"https://colab.research.google.com/github/cqdirecly/Maestria_EAN/blob/main/Guias/Guia2/Solucion_Guia_2.ipynb\" target=\"_parent\"><img src=\"https://colab.research.google.com/assets/colab-badge.svg\" alt=\"Open In Colab\"/></a>"
      ]
    },
    {
      "cell_type": "markdown",
      "source": [
        "# **$\\color{red}{\\text{Solución Guía 2}}$**\n",
        "\n",
        "Integrantes:\n",
        "\n",
        "|Nombre | Cedula  |\n",
        "|---|---|\n",
        "| CHRISTIAN CAMILO QUIMBAY LOPEZ    | 80.188.132      |\n",
        "| HELBER JOHN QUIMBAY LOPEZ | 80.188.133  |\n"
      ],
      "metadata": {
        "id": "nK_jIoN4000D"
      }
    },
    {
      "cell_type": "markdown",
      "metadata": {
        "id": "i_BWR4Zsyjoz"
      },
      "source": [
        "Objetivo: aplicar los conceptos de Pandas en la manipulación y análisis de datos estructurados. Se trabajará con Series y DataFrames, aplicando técnicas de acceso, selección, filtrado y agregación de datos.\n",
        "\n",
        "## **Caso de Negocio: Análisis de Deserción de Clientes en una Empresa de Telecomunicaciones**\n",
        "\n",
        "**Contexto**\n",
        "\n",
        "En la industria de las telecomunicaciones, la retención de clientes es un factor crítico para la sostenibilidad del negocio. La competencia es feroz y adquirir nuevos clientes suele ser más costoso que mantener a los actuales. En este análisis, exploraremos un conjunto de datos que contiene información detallada sobre clientes que han abandonado el servicio (churn) y aquellos que permanecen activos.\n",
        "\n",
        "Nuestro objetivo es identificar los factores clave que influyen en la deserción, comprender patrones de comportamiento y generar estrategias efectivas para reducir la tasa de abandono.\n",
        "\n",
        "La empresa ha experimentado un aumento en la tasa de deserción de clientes, lo que ha provocado:\n",
        "- Pérdida de ingresos recurrentes.\n",
        "- Incremento en los costos de adquisición de nuevos clientes.\n",
        "- Menor estabilidad en la base de clientes a largo plazo.\n",
        "\n",
        "Para abordar esta problemática, es crucial identificar las razones detrás de la deserción y desarrollar estrategias para mejorar la retención de clientes.\n",
        "\n"
      ]
    },
    {
      "cell_type": "markdown",
      "metadata": {
        "id": "TBsud25XSR0w"
      },
      "source": [
        "**Entrega del Trabajo**\n",
        "\n",
        "Los estudiantes deben trabajar en grupos de entre 2 y 4 personas. Cada grupo deberá subir su trabajo a un repositorio de GitHub, asegurándose de que el código y los archivos necesarios estén bien organizados y documentados. Posteriormente, deberán enviar el enlace del repositorio en la plataforma Canvas para su evaluación.\n",
        "\n",
        "Instrucciones para la entrega:\n",
        "\n",
        "Crear un repositorio en GitHub con un nombre descriptivo para el proyecto.\n",
        "\n",
        "Subir el código en Jupyter Notebook (.ipynb) o en formato Python (.py).\n",
        "\n",
        "Incluir un archivo README.md con una breve descripción del trabajo y las instrucciones de ejecución.\n",
        "\n",
        "Compartir el enlace del repositorio en Canvas dentro del plazo establecido.\n",
        "\n"
      ]
    },
    {
      "cell_type": "markdown",
      "metadata": {
        "id": "R1eyqBGSScta"
      },
      "source": [
        "## **Descripción de las variables del dataset telecom_churn**\n",
        "\n",
        "El dataset telecom_churn contiene información detallada sobre clientes de una empresa de telecomunicaciones, incluyendo datos generales, planes contratados, uso del servicio telefónico y llamadas al servicio al cliente. Su propósito principal es analizar patrones de deserción de clientes, identificados a través de la variable churn, que indica si un cliente ha abandonado la empresa (1) o sigue siendo cliente (0).\n",
        "\n",
        "Dentro del dataset, encontramos información general como el estado (state) donde reside el cliente, el código de área (area code), y el número de teléfono (phone number), aunque esta última variable no aporta información útil para el análisis, ya que es un identificador único.\n",
        "\n",
        "Además, el dataset registra el tiempo que un cliente ha estado en la empresa a través de la variable account length, lo que puede ayudar a analizar si la duración del contrato influye en la deserción. También se incluyen detalles sobre los planes contratados, como si el cliente tiene un plan internacional (international plan), que le permite realizar llamadas internacionales, o un buzón de voz (voice mail plan), que le permite recibir mensajes de voz.\n",
        "\n",
        "En cuanto al uso del servicio, se registran datos detallados sobre el tiempo en llamadas y los costos asociados. Se divide en tres períodos del día: diurno (total day minutes, total day calls, total day charge), vespertino (total eve minutes, total eve calls, total eve charge) y nocturno (total night minutes, total night calls, total night charge), lo que permite evaluar si hay patrones de consumo que influyen en la deserción. También se incluye información sobre el uso del servicio internacional, con variables como total intl minutes (minutos en llamadas internacionales), total intl calls (cantidad de llamadas internacionales) y total intl charge (costos por llamadas internacionales).\n",
        "\n",
        "Otro aspecto clave del dataset es el número de llamadas al servicio al cliente (customer service calls), ya que una mayor cantidad de llamadas puede indicar insatisfacción y estar relacionada con la decisión del cliente de abandonar la empresa.\n",
        "\n",
        "Finalmente, la variable más importante del análisis es churn, que indica si un cliente ha desertado de la empresa. A partir de esta variable, podemos analizar qué factores influyen en la deserción y encontrar patrones en los clientes que tienen mayor probabilidad de abandonar el servicio.\n"
      ]
    },
    {
      "cell_type": "markdown",
      "source": [
        "## **$\\color{#abcd55}{\\text{Solucion:}}$**"
      ],
      "metadata": {
        "id": "ZfXBluCN3L5C"
      }
    },
    {
      "cell_type": "markdown",
      "metadata": {
        "id": "-gqRGJ8yFs5Y"
      },
      "source": [
        "## **Exploración y Limpieza de Datos**"
      ]
    },
    {
      "cell_type": "markdown",
      "source": [
        "### Cargar y explorar el dataset\n",
        "\n",
        "Importa Pandas y carga el dataset telecom_churn.csv en un DataFrame."
      ],
      "metadata": {
        "id": "ATBoDV9x5CGl"
      }
    },
    {
      "cell_type": "code",
      "execution_count": 1,
      "metadata": {
        "id": "wuoyvrE0vQ09",
        "colab": {
          "base_uri": "https://localhost:8080/",
          "height": 391
        },
        "outputId": "e9b6552f-85ef-4974-c04b-8915fe8fb609"
      },
      "outputs": [
        {
          "output_type": "stream",
          "name": "stdout",
          "text": [
            "\n",
            "Version Pandas: \n",
            "2.2.2\n"
          ]
        },
        {
          "output_type": "error",
          "ename": "FileNotFoundError",
          "evalue": "[Errno 2] No such file or directory: 'telecom_churn.csv'",
          "traceback": [
            "\u001b[0;31m---------------------------------------------------------------------------\u001b[0m",
            "\u001b[0;31mFileNotFoundError\u001b[0m                         Traceback (most recent call last)",
            "\u001b[0;32m<ipython-input-1-9bb28b3a9bc2>\u001b[0m in \u001b[0;36m<cell line: 0>\u001b[0;34m()\u001b[0m\n\u001b[1;32m      4\u001b[0m \u001b[0mprint\u001b[0m\u001b[0;34m(\u001b[0m\u001b[0mpd\u001b[0m\u001b[0;34m.\u001b[0m\u001b[0m__version__\u001b[0m\u001b[0;34m)\u001b[0m \u001b[0;31m#indica la version de pandas instalada\u001b[0m\u001b[0;34m\u001b[0m\u001b[0;34m\u001b[0m\u001b[0m\n\u001b[1;32m      5\u001b[0m \u001b[0;34m\u001b[0m\u001b[0m\n\u001b[0;32m----> 6\u001b[0;31m \u001b[0mchurn\u001b[0m \u001b[0;34m=\u001b[0m \u001b[0mpd\u001b[0m\u001b[0;34m.\u001b[0m\u001b[0mread_csv\u001b[0m\u001b[0;34m(\u001b[0m\u001b[0;34m'telecom_churn.csv'\u001b[0m\u001b[0;34m)\u001b[0m  \u001b[0;31m# Lee un archivo CSV en un DataFrame\u001b[0m\u001b[0;34m\u001b[0m\u001b[0;34m\u001b[0m\u001b[0m\n\u001b[0m",
            "\u001b[0;32m/usr/local/lib/python3.11/dist-packages/pandas/io/parsers/readers.py\u001b[0m in \u001b[0;36mread_csv\u001b[0;34m(filepath_or_buffer, sep, delimiter, header, names, index_col, usecols, dtype, engine, converters, true_values, false_values, skipinitialspace, skiprows, skipfooter, nrows, na_values, keep_default_na, na_filter, verbose, skip_blank_lines, parse_dates, infer_datetime_format, keep_date_col, date_parser, date_format, dayfirst, cache_dates, iterator, chunksize, compression, thousands, decimal, lineterminator, quotechar, quoting, doublequote, escapechar, comment, encoding, encoding_errors, dialect, on_bad_lines, delim_whitespace, low_memory, memory_map, float_precision, storage_options, dtype_backend)\u001b[0m\n\u001b[1;32m   1024\u001b[0m     \u001b[0mkwds\u001b[0m\u001b[0;34m.\u001b[0m\u001b[0mupdate\u001b[0m\u001b[0;34m(\u001b[0m\u001b[0mkwds_defaults\u001b[0m\u001b[0;34m)\u001b[0m\u001b[0;34m\u001b[0m\u001b[0;34m\u001b[0m\u001b[0m\n\u001b[1;32m   1025\u001b[0m \u001b[0;34m\u001b[0m\u001b[0m\n\u001b[0;32m-> 1026\u001b[0;31m     \u001b[0;32mreturn\u001b[0m \u001b[0m_read\u001b[0m\u001b[0;34m(\u001b[0m\u001b[0mfilepath_or_buffer\u001b[0m\u001b[0;34m,\u001b[0m \u001b[0mkwds\u001b[0m\u001b[0;34m)\u001b[0m\u001b[0;34m\u001b[0m\u001b[0;34m\u001b[0m\u001b[0m\n\u001b[0m\u001b[1;32m   1027\u001b[0m \u001b[0;34m\u001b[0m\u001b[0m\n\u001b[1;32m   1028\u001b[0m \u001b[0;34m\u001b[0m\u001b[0m\n",
            "\u001b[0;32m/usr/local/lib/python3.11/dist-packages/pandas/io/parsers/readers.py\u001b[0m in \u001b[0;36m_read\u001b[0;34m(filepath_or_buffer, kwds)\u001b[0m\n\u001b[1;32m    618\u001b[0m \u001b[0;34m\u001b[0m\u001b[0m\n\u001b[1;32m    619\u001b[0m     \u001b[0;31m# Create the parser.\u001b[0m\u001b[0;34m\u001b[0m\u001b[0;34m\u001b[0m\u001b[0m\n\u001b[0;32m--> 620\u001b[0;31m     \u001b[0mparser\u001b[0m \u001b[0;34m=\u001b[0m \u001b[0mTextFileReader\u001b[0m\u001b[0;34m(\u001b[0m\u001b[0mfilepath_or_buffer\u001b[0m\u001b[0;34m,\u001b[0m \u001b[0;34m**\u001b[0m\u001b[0mkwds\u001b[0m\u001b[0;34m)\u001b[0m\u001b[0;34m\u001b[0m\u001b[0;34m\u001b[0m\u001b[0m\n\u001b[0m\u001b[1;32m    621\u001b[0m \u001b[0;34m\u001b[0m\u001b[0m\n\u001b[1;32m    622\u001b[0m     \u001b[0;32mif\u001b[0m \u001b[0mchunksize\u001b[0m \u001b[0;32mor\u001b[0m \u001b[0miterator\u001b[0m\u001b[0;34m:\u001b[0m\u001b[0;34m\u001b[0m\u001b[0;34m\u001b[0m\u001b[0m\n",
            "\u001b[0;32m/usr/local/lib/python3.11/dist-packages/pandas/io/parsers/readers.py\u001b[0m in \u001b[0;36m__init__\u001b[0;34m(self, f, engine, **kwds)\u001b[0m\n\u001b[1;32m   1618\u001b[0m \u001b[0;34m\u001b[0m\u001b[0m\n\u001b[1;32m   1619\u001b[0m         \u001b[0mself\u001b[0m\u001b[0;34m.\u001b[0m\u001b[0mhandles\u001b[0m\u001b[0;34m:\u001b[0m \u001b[0mIOHandles\u001b[0m \u001b[0;34m|\u001b[0m \u001b[0;32mNone\u001b[0m \u001b[0;34m=\u001b[0m \u001b[0;32mNone\u001b[0m\u001b[0;34m\u001b[0m\u001b[0;34m\u001b[0m\u001b[0m\n\u001b[0;32m-> 1620\u001b[0;31m         \u001b[0mself\u001b[0m\u001b[0;34m.\u001b[0m\u001b[0m_engine\u001b[0m \u001b[0;34m=\u001b[0m \u001b[0mself\u001b[0m\u001b[0;34m.\u001b[0m\u001b[0m_make_engine\u001b[0m\u001b[0;34m(\u001b[0m\u001b[0mf\u001b[0m\u001b[0;34m,\u001b[0m \u001b[0mself\u001b[0m\u001b[0;34m.\u001b[0m\u001b[0mengine\u001b[0m\u001b[0;34m)\u001b[0m\u001b[0;34m\u001b[0m\u001b[0;34m\u001b[0m\u001b[0m\n\u001b[0m\u001b[1;32m   1621\u001b[0m \u001b[0;34m\u001b[0m\u001b[0m\n\u001b[1;32m   1622\u001b[0m     \u001b[0;32mdef\u001b[0m \u001b[0mclose\u001b[0m\u001b[0;34m(\u001b[0m\u001b[0mself\u001b[0m\u001b[0;34m)\u001b[0m \u001b[0;34m->\u001b[0m \u001b[0;32mNone\u001b[0m\u001b[0;34m:\u001b[0m\u001b[0;34m\u001b[0m\u001b[0;34m\u001b[0m\u001b[0m\n",
            "\u001b[0;32m/usr/local/lib/python3.11/dist-packages/pandas/io/parsers/readers.py\u001b[0m in \u001b[0;36m_make_engine\u001b[0;34m(self, f, engine)\u001b[0m\n\u001b[1;32m   1878\u001b[0m                 \u001b[0;32mif\u001b[0m \u001b[0;34m\"b\"\u001b[0m \u001b[0;32mnot\u001b[0m \u001b[0;32min\u001b[0m \u001b[0mmode\u001b[0m\u001b[0;34m:\u001b[0m\u001b[0;34m\u001b[0m\u001b[0;34m\u001b[0m\u001b[0m\n\u001b[1;32m   1879\u001b[0m                     \u001b[0mmode\u001b[0m \u001b[0;34m+=\u001b[0m \u001b[0;34m\"b\"\u001b[0m\u001b[0;34m\u001b[0m\u001b[0;34m\u001b[0m\u001b[0m\n\u001b[0;32m-> 1880\u001b[0;31m             self.handles = get_handle(\n\u001b[0m\u001b[1;32m   1881\u001b[0m                 \u001b[0mf\u001b[0m\u001b[0;34m,\u001b[0m\u001b[0;34m\u001b[0m\u001b[0;34m\u001b[0m\u001b[0m\n\u001b[1;32m   1882\u001b[0m                 \u001b[0mmode\u001b[0m\u001b[0;34m,\u001b[0m\u001b[0;34m\u001b[0m\u001b[0;34m\u001b[0m\u001b[0m\n",
            "\u001b[0;32m/usr/local/lib/python3.11/dist-packages/pandas/io/common.py\u001b[0m in \u001b[0;36mget_handle\u001b[0;34m(path_or_buf, mode, encoding, compression, memory_map, is_text, errors, storage_options)\u001b[0m\n\u001b[1;32m    871\u001b[0m         \u001b[0;32mif\u001b[0m \u001b[0mioargs\u001b[0m\u001b[0;34m.\u001b[0m\u001b[0mencoding\u001b[0m \u001b[0;32mand\u001b[0m \u001b[0;34m\"b\"\u001b[0m \u001b[0;32mnot\u001b[0m \u001b[0;32min\u001b[0m \u001b[0mioargs\u001b[0m\u001b[0;34m.\u001b[0m\u001b[0mmode\u001b[0m\u001b[0;34m:\u001b[0m\u001b[0;34m\u001b[0m\u001b[0;34m\u001b[0m\u001b[0m\n\u001b[1;32m    872\u001b[0m             \u001b[0;31m# Encoding\u001b[0m\u001b[0;34m\u001b[0m\u001b[0;34m\u001b[0m\u001b[0m\n\u001b[0;32m--> 873\u001b[0;31m             handle = open(\n\u001b[0m\u001b[1;32m    874\u001b[0m                 \u001b[0mhandle\u001b[0m\u001b[0;34m,\u001b[0m\u001b[0;34m\u001b[0m\u001b[0;34m\u001b[0m\u001b[0m\n\u001b[1;32m    875\u001b[0m                 \u001b[0mioargs\u001b[0m\u001b[0;34m.\u001b[0m\u001b[0mmode\u001b[0m\u001b[0;34m,\u001b[0m\u001b[0;34m\u001b[0m\u001b[0;34m\u001b[0m\u001b[0m\n",
            "\u001b[0;31mFileNotFoundError\u001b[0m: [Errno 2] No such file or directory: 'telecom_churn.csv'"
          ]
        }
      ],
      "source": [
        "import pandas as pd #importa la libreria pandas\n",
        "\n",
        "print(f'\\nVersion Pandas: ')\n",
        "print(pd.__version__) #indica la version de pandas instalada\n",
        "\n",
        "churn = pd.read_csv('telecom_churn.csv')  # Lee un archivo CSV en un DataFrame\n"
      ]
    },
    {
      "cell_type": "markdown",
      "source": [
        "### Muestra las primeras 5 filas del DataFrame.\n"
      ],
      "metadata": {
        "id": "JIzxYH2c5VGD"
      }
    },
    {
      "cell_type": "code",
      "source": [
        "#mostrar las primeras 5 filas del archivo\n",
        "print(f'\\nPrimeras 5 filas del archivo')\n",
        "churn.head()"
      ],
      "metadata": {
        "id": "36lhM3cp5c-A"
      },
      "execution_count": null,
      "outputs": []
    },
    {
      "cell_type": "markdown",
      "source": [
        "### Verifica cuántas filas y columnas tiene el dataset."
      ],
      "metadata": {
        "id": "Mgj4zbr46Iv8"
      }
    },
    {
      "cell_type": "code",
      "execution_count": null,
      "metadata": {
        "id": "wD4pc5eKyjo2"
      },
      "outputs": [],
      "source": [
        "#Verifica cuántas filas y columnas tiene el dataset.\n",
        "filas, columnas = churn.shape\n",
        "\n",
        "# Mostrar el resultado\n",
        "print(f\"El dataset tiene {filas} filas y {columnas} columnas.\")"
      ]
    },
    {
      "cell_type": "markdown",
      "source": [
        "### Muestra información general del dataset, incluyendo los tipos de datos."
      ],
      "metadata": {
        "id": "MIebPRMB6Vd-"
      }
    },
    {
      "cell_type": "code",
      "execution_count": null,
      "metadata": {
        "id": "Gw3ceYHLyjo3"
      },
      "outputs": [],
      "source": [
        "#Muestra información general del dataset, incluyendo los tipos de datos.\n",
        "\n",
        "churn.info()"
      ]
    },
    {
      "cell_type": "markdown",
      "source": [
        "### Identifica si hay valores nulos en alguna columna."
      ],
      "metadata": {
        "id": "Ii7paPyZ6hMf"
      }
    },
    {
      "cell_type": "code",
      "execution_count": null,
      "metadata": {
        "id": "GCGdop0syjo3"
      },
      "outputs": [],
      "source": [
        "# Identifica si hay valores nulos en alguna columna.\n",
        "\n",
        "# Verificar valores nulos en cada columna\n",
        "valores_nulos = churn.isnull().sum()\n",
        "\n",
        "# Mostrar el resultado\n",
        "print(valores_nulos)"
      ]
    },
    {
      "cell_type": "markdown",
      "source": [
        "## **Análisis de Churn y Factores Relacionados**"
      ],
      "metadata": {
        "id": "YETaNaCr6oG1"
      }
    },
    {
      "cell_type": "markdown",
      "metadata": {
        "id": "PIGXq-ijFgb4"
      },
      "source": [
        "\n",
        "### Calcula el porcentaje de clientes que han desertado (churn = 1).\n",
        "\n"
      ]
    },
    {
      "cell_type": "markdown",
      "metadata": {
        "id": "h6TwXBkTyjo3"
      },
      "source": [
        "$\\text{Tasa de deserción} = \\left( \\frac{\\text{Número de clientes con churn = 1}}{\\text{Número total de clientes}} \\right) \\times 100$\n"
      ]
    },
    {
      "cell_type": "code",
      "execution_count": null,
      "metadata": {
        "id": "3_TFqdwBwUD-"
      },
      "outputs": [],
      "source": [
        "# Obtener el número clientes que han desertado\n",
        "total_registros = churn.shape[0]\n",
        "\n",
        "clientes_desertados = churn[churn['churn'] == 1].shape[0]\n",
        "\n",
        "# Calcular el porcentaje de clientes que han desertado\n",
        "# porcentaje_desercion = churn['churn'].mean() * 100\n",
        "\n",
        "porcentaje_desercion = clientes_desertados / total_registros *100\n",
        "\n",
        "print(f\"Total de registros: {total_registros}\")\n",
        "print (f\"Cantidad de clientes desestados: {clientes_desertados}\")\n",
        "# Mostrar el resultado\n",
        "print(f\"El porcentaje de clientes que han desertado es: {porcentaje_desercion:.2f}%\")"
      ]
    },
    {
      "cell_type": "markdown",
      "source": [
        "### Identifica si los clientes con plan internacional (international plan) tienen mayor tasa de deserción.\n"
      ],
      "metadata": {
        "id": "JrptYibYn3XD"
      }
    },
    {
      "cell_type": "code",
      "execution_count": null,
      "metadata": {
        "id": "o05RcDetyjo4"
      },
      "outputs": [],
      "source": [
        "\n",
        "#Identifica si los clientes con plan internacional (international plan) tienen mayor tasa de deserción.\n",
        "\n",
        "# Filtrar clientes con plan internacional\n",
        "clientes_con_plan_internacional = churn[churn['international plan'] == 'yes']\n",
        "\n",
        "# Filtrar clientes sin plan internacional\n",
        "clientes_sin_plan_internacional = churn[churn['international plan'] == 'no']\n",
        "\n",
        "# Calcular el número de clientes con churn = 1 en cada grupo\n",
        "clientes_con_churn_internacional = clientes_con_plan_internacional[clientes_con_plan_internacional['churn'] == 1].shape[0]\n",
        "clientes_con_churn_sin_internacional = clientes_sin_plan_internacional[clientes_sin_plan_internacional['churn'] == 1].shape[0]\n",
        "\n",
        "# Calcular el número total de clientes en cada grupo\n",
        "total_clientes_internacional = clientes_con_plan_internacional.shape[0]\n",
        "total_clientes_sin_internacional = clientes_sin_plan_internacional.shape[0]\n",
        "\n",
        "# Calcular la tasa de deserción para los clientes con plan internacional\n",
        "tasa_desercion_internacional = (clientes_con_churn_internacional / total_clientes_internacional) * 100\n",
        "\n",
        "# Calcular la tasa de deserción para los clientes sin plan internacional\n",
        "tasa_desercion_sin_internacional = (clientes_con_churn_sin_internacional / total_clientes_sin_internacional) * 100\n",
        "\n",
        "# Mostrar las tasas de deserción\n",
        "print(f\"Tasa de deserción de clientes con plan internacional: {tasa_desercion_internacional:.2f}%\")\n",
        "print(f\"Tasa de deserción de clientes sin plan internacional: {tasa_desercion_sin_internacional:.2f}%\")\n",
        "\n"
      ]
    },
    {
      "cell_type": "markdown",
      "source": [
        "### Identifica si los clientes con buzón de voz (voice mail plan) tienen menor tasa de deserción."
      ],
      "metadata": {
        "id": "nVnNgbx5n7ja"
      }
    },
    {
      "cell_type": "code",
      "execution_count": null,
      "metadata": {
        "id": "CtrQC9qqyjo4"
      },
      "outputs": [],
      "source": [
        "#Identifica si los clientes con buzón de voz (voice mail plan) tienen menor tasa de deserción.\n",
        "\n",
        "# Filtrar clientes con plan voice mail plan\n",
        "clientes_con_voice_mail_plan = churn[churn['voice mail plan'] == 'yes']\n",
        "\n",
        "# Filtrar clientes sin plan internacional\n",
        "clientes_sin_voice_mail_plan = churn[churn['voice mail plan'] == 'no']\n",
        "\n",
        "# Calcular el número de clientes con churn = 1 en cada grupo\n",
        "clientes_con_churn_voice_mail_plan = clientes_con_voice_mail_plan[clientes_con_voice_mail_plan['churn'] == 1].shape[0]\n",
        "clientes_con_churn_sin_voice_mail_plan = clientes_sin_voice_mail_plan[clientes_sin_voice_mail_plan['churn'] == 1].shape[0]\n",
        "\n",
        "# Calcular el número total de clientes en cada grupo\n",
        "total_clientes_voice_mail_plan = clientes_con_voice_mail_plan.shape[0]\n",
        "total_clientes_sin_voice_mail_plan = clientes_sin_voice_mail_plan.shape[0]\n",
        "\n",
        "# Calcular la tasa de deserción para los clientes con voice mail plan\n",
        "tasa_desercion_voice_mail_plan = (clientes_con_churn_voice_mail_plan / total_clientes_voice_mail_plan) * 100\n",
        "\n",
        "# Calcular la tasa de deserción para los clientes sin voice mail plan\n",
        "tasa_desercion_sin_voice_mail_plan = (clientes_con_churn_sin_voice_mail_plan / total_clientes_sin_voice_mail_plan) * 100\n",
        "\n",
        "# Mostrar las tasas de deserción\n",
        "print(f\"Tasa de deserción de clientes con voice mail plan: {tasa_desercion_voice_mail_plan:.2f}%\")\n",
        "print(f\"Tasa de deserción de clientes sin voice mail plan: {tasa_desercion_sin_voice_mail_plan:.2f}%\")"
      ]
    },
    {
      "cell_type": "markdown",
      "metadata": {
        "id": "yL8Y_juFFup7"
      },
      "source": [
        "## **Análisis de la Duración del Servicio y Deserción**\n",
        "\n"
      ]
    },
    {
      "cell_type": "markdown",
      "source": [
        "### ¿Cuál es la duración promedio de la cuenta (account length) entre clientes que desertaron y los que permanecen?"
      ],
      "metadata": {
        "id": "eV3eQsLCqu4K"
      }
    },
    {
      "cell_type": "code",
      "execution_count": null,
      "metadata": {
        "id": "7ViU0n6lGFao"
      },
      "outputs": [],
      "source": [
        "# ¿Cuál es la duración promedio de la cuenta (account length) entre clientes que desertaron y los que permanecen?\n",
        "\n",
        "# Filtrar clientes que desertaron\n",
        "clientes_desertaron = churn[churn['churn'] == 1]\n",
        "\n",
        "# Filtrar clientes que permanecen\n",
        "clientes_permanecen = churn[churn['churn'] == 0]\n",
        "\n",
        "# Calcular la duración promedio para clientes que desertaron\n",
        "duracion_promedio_desertaron = clientes_desertaron['account length'].mean()\n",
        "\n",
        "# Calcular la duración promedio para clientes que permanecen\n",
        "duracion_promedio_permanecen = clientes_permanecen['account length'].mean()\n",
        "\n",
        "# Mostrar los resultados\n",
        "print(f\"Duración promedio de la cuenta para clientes que desertaron: {duracion_promedio_desertaron:.0f} dias\")\n",
        "print(f\"Duración promedio de la cuenta para clientes que permanecen: {duracion_promedio_permanecen:.0f} dias\")\n",
        "\n"
      ]
    },
    {
      "cell_type": "markdown",
      "metadata": {
        "id": "vyaa82K0GF6B"
      },
      "source": [
        "## **Relación entre Deserción y Uso del Servicio**"
      ]
    },
    {
      "cell_type": "markdown",
      "source": [
        "### Compara la cantidad de minutos usados en llamadas diurnas (total day minutes) entre clientes con y sin churn.\n",
        "\n"
      ],
      "metadata": {
        "id": "Zu3D9KyUrBh0"
      }
    },
    {
      "cell_type": "code",
      "execution_count": null,
      "metadata": {
        "id": "d4aPKcv2GrpL"
      },
      "outputs": [],
      "source": [
        "#Compara la cantidad de minutos usados en llamadas diurnas (total day minutes) entre clientes con y sin churn.\n",
        "\n",
        "# Filtrar clientes que desertaron\n",
        "clientes_desertaron = churn[churn['churn'] == 1]\n",
        "\n",
        "# Filtrar clientes que permanecen\n",
        "clientes_permanecen = churn[churn['churn'] == 0]\n",
        "\n",
        "# Calcular la duración minutos para clientes que desertaron\n",
        "duracion_minutos_desertaron = clientes_desertaron['total day minutes'].sum()\n",
        "\n",
        "# Calcular la duración minutos para clientes que permanecen\n",
        "duracion_minutos_permanecen = clientes_permanecen['total day minutes'].sum()\n",
        "\n",
        "# Mostrar los resultados\n",
        "print(f\"Duración minutos usados en llamadas diurnas para clientes que desertaron: {duracion_minutos_desertaron:,.0f} minutos\")\n",
        "print(f\"Duración minutos usados en llamadas diurnas para clientes que permanecen: {duracion_minutos_permanecen:,.0f} minutos\")\n"
      ]
    },
    {
      "cell_type": "markdown",
      "source": [
        "### Compara la cantidad de minutos usados en llamadas nocturnas (total night minutes).\n"
      ],
      "metadata": {
        "id": "ZomjpPD_rIaO"
      }
    },
    {
      "cell_type": "code",
      "execution_count": null,
      "metadata": {
        "id": "LjfyY03Ryjo5"
      },
      "outputs": [],
      "source": [
        "#Compara la cantidad de minutos usados en llamadas nocturnas (total night minutes).\n",
        "\n",
        "# Filtrar clientes que desertaron\n",
        "clientes_desertaron = churn[churn['churn'] == 1]\n",
        "\n",
        "# Filtrar clientes que permanecen\n",
        "clientes_permanecen = churn[churn['churn'] == 0]\n",
        "\n",
        "# Calcular la duración minutos para clientes que desertaron\n",
        "duracion_minutos_desertaron = clientes_desertaron['total night minutes'].sum()\n",
        "\n",
        "# Calcular la duración minutos para clientes que permanecen\n",
        "duracion_minutos_permanecen = clientes_permanecen['total night minutes'].sum()\n",
        "\n",
        "# Mostrar los resultados\n",
        "print(f\"Duración minutos usados en llamadas nocturnas para clientes que desertaron: {duracion_minutos_desertaron:,.0f} minutos\")\n",
        "print(f\"Duración minutos usados en llamadas nocturnas para clientes que permanecen: {duracion_minutos_permanecen:,.0f} minutos\")\n"
      ]
    },
    {
      "cell_type": "markdown",
      "source": [
        "### Compara el número total de llamadas (total day calls) entre clientes con y sin churn."
      ],
      "metadata": {
        "id": "rMl0FkqYrLMy"
      }
    },
    {
      "cell_type": "code",
      "execution_count": null,
      "metadata": {
        "id": "YtIEjVKkyjo5"
      },
      "outputs": [],
      "source": [
        "#Compara el número total de llamadas (total day calls) entre clientes con y sin churn.\n",
        "\n",
        "# Filtrar clientes que desertaron\n",
        "clientes_desertaron = churn[churn['churn'] == 1]\n",
        "\n",
        "# Filtrar clientes que permanecen\n",
        "clientes_permanecen = churn[churn['churn'] == 0]\n",
        "\n",
        "# Calcular el total de llamdas diurnas para clientes que desertaron\n",
        "duracion_minutos_desertaron = clientes_desertaron['total day calls'].sum()\n",
        "\n",
        "# Calcular el total de llamdas diurnas para clientes que permanecen\n",
        "duracion_minutos_permanecen = clientes_permanecen['total day calls'].sum()\n",
        "\n",
        "# Mostrar los resultados\n",
        "print(f\"Total de llamadas diurnas para clientes que desertaron: {duracion_minutos_desertaron:,.0f} minutos\")\n",
        "print(f\"Total de llamadas diurnas para clientes que permanecen: {duracion_minutos_permanecen:,.0f} minutos\")\n"
      ]
    },
    {
      "cell_type": "markdown",
      "metadata": {
        "id": "aKl9LnZgGsDT"
      },
      "source": [
        "## **Impacto de las Llamadas al Servicio al Cliente en la Deserción**\n",
        "\n"
      ]
    },
    {
      "cell_type": "markdown",
      "source": [
        "### Calcula el número promedio de llamadas al servicio al cliente (customer service calls) entre clientes que desertaron y los que no.\n",
        "\n"
      ],
      "metadata": {
        "id": "mLnpO5U1rbp0"
      }
    },
    {
      "cell_type": "code",
      "execution_count": null,
      "metadata": {
        "id": "ac9qDXgrGz-M"
      },
      "outputs": [],
      "source": [
        "# ¿Cuál es el promedio de llamadas al servicio al cliente (customer service calls) entre clientes que desertaron y los que no?\n",
        "\n",
        "# Filtrar clientes que desertaron\n",
        "clientes_desertaron = churn[churn['churn'] == 1]\n",
        "\n",
        "# Filtrar clientes que permanecen\n",
        "clientes_permanecen = churn[churn['churn'] == 0]\n",
        "\n",
        "# Calcular promedio de llamadas al servicio al cliente para clientes que desertaron\n",
        "duracion_promedio_desertaron = clientes_desertaron['customer service calls'].mean()\n",
        "\n",
        "# Calcular promedio de llamadas al servicio al cliente para clientes que permanecen\n",
        "duracion_promedio_permanecen = clientes_permanecen['customer service calls'].mean()\n",
        "\n",
        "# Mostrar los resultados\n",
        "print(f\"Promedio de llamadas al servicio al cliente para clientes que desertaron: {duracion_promedio_desertaron:.2f} llamadas\")\n",
        "print(f\"Promedio de llamadas al servicio al cliente para clientes que permanecen: {duracion_promedio_permanecen:.2f} llamadas\")"
      ]
    },
    {
      "cell_type": "markdown",
      "source": [
        "### Divide los clientes en dos grupos:\n",
        "\n",
        "- Grupo 1: Clientes que llamaron más de 3 veces al servicio al cliente.\n",
        "- Grupo 2: Clientes que llamaron 3 veces o menos.\n",
        "Compara la tasa de churn entre ambos grupos."
      ],
      "metadata": {
        "id": "ZpqSSeU3rhIb"
      }
    },
    {
      "cell_type": "code",
      "execution_count": null,
      "metadata": {
        "id": "9-rAlabCyjo6"
      },
      "outputs": [],
      "source": [
        "# Divide los clientes en dos grupos:\n",
        "\n",
        "# - Grupo 1: Clientes que llamaron más de 3 veces al servicio al cliente.\n",
        "# - Grupo 2: Clientes que llamaron 3 veces o menos.\n",
        "# Compara la tasa de churn entre ambos grupos.\n",
        "\n",
        "# Filtrar clientes mas de 3 llamadas\n",
        "clientes_que_llamaron_mas_3 = churn[churn['customer service calls'] > 3]\n",
        "\n",
        "# Filtrar clientes menos de 3 llamadas\n",
        "clientes_que_llamaron_menos_3 = churn[churn['customer service calls'] <=3 & (churn['customer service calls'] > 0)]\n",
        "\n",
        "# Calcular el número de clientes que llamaron más de 3 veces al servicio al cliente.\n",
        "clientes_mas_de_3_veces = clientes_que_llamaron_mas_3.shape[0]\n",
        "\n",
        "# Calcular el número de clientes que llamaron menos de 3 veces al servicio al cliente.\n",
        "clientes_con_menos_3_veces = clientes_que_llamaron_menos_3.shape[0]\n",
        "\n",
        "# Calcular el número de clientes con churn = 1 en cada grupo\n",
        "clientes_con_churn_mas_de_3_veces = clientes_que_llamaron_mas_3[clientes_que_llamaron_mas_3['churn'] == 1].shape[0]\n",
        "clientes_con_churn_menos_3_veces = clientes_que_llamaron_menos_3[clientes_que_llamaron_menos_3['churn'] == 1].shape[0]\n",
        "\n",
        "print(f\"Clientes que llamaron más de 3 veces al servicio al cliente: {clientes_mas_de_3_veces:.0f}\")\n",
        "print(f\"Clientes que llamaron menos de 3 veces al servicio al cliente: {clientes_con_menos_3_veces:.0f}\")\n",
        "\n",
        "# Obtener el número clientes\n",
        "total_registros = churn.shape[0]\n",
        "\n",
        "# Calcular el porcentaje de clientes con churn con mas de 3 llamadas\n",
        "porcentaje_mas_de_3 = clientes_con_churn_mas_de_3_veces / total_registros *100\n",
        "\n",
        "# Calcular el porcentaje de clientes con churn con menos de 3 llamadas\n",
        "porcentaje_menos_de_3 = clientes_con_churn_menos_3_veces / total_registros *100\n",
        "\n",
        "\n",
        "print(f\"El porcentaje de clientes con churn que llamaron más de 3 veces al servicio al cliente: {porcentaje_mas_de_3:.2f}%\")\n",
        "print(f\"El porcentaje de clientes con churn que llamaron menos de 3 veces al servicio al cliente: {porcentaje_menos_de_3:.2f}%\")"
      ]
    },
    {
      "cell_type": "markdown",
      "metadata": {
        "id": "U7oTziiyG0Wb"
      },
      "source": [
        "## **Análisis del Costo de las Llamadas y Churn**\n"
      ]
    },
    {
      "cell_type": "markdown",
      "source": [
        "### Compara el costo total de llamadas diurnas (total day charge) entre clientes con y sin churn.\n",
        "\n"
      ],
      "metadata": {
        "id": "zBMa558Pr5rM"
      }
    },
    {
      "cell_type": "code",
      "execution_count": null,
      "metadata": {
        "id": "YWGmcLdoIYwx"
      },
      "outputs": [],
      "source": [
        "#Compara el costo total de llamadas diurnas (total day charge) entre clientes con y sin churn.\n",
        "\n",
        "# Filtrar clientes que desertaron\n",
        "clientes_desertaron = churn[churn['churn'] == 1]\n",
        "\n",
        "# Filtrar clientes que permanecen\n",
        "clientes_permanecen = churn[churn['churn'] == 0]\n",
        "\n",
        "# Calcular el costo total de llamadas diurnas para clientes que desertaron\n",
        "costo_llamadas_diurnas_desertaron = clientes_desertaron['total day charge'].sum()\n",
        "\n",
        "# Calcular el costo total de llamadas diurnas para clientes que permanecen\n",
        "costo_llamadas_diurnas_permanecen = clientes_permanecen['total day charge'].sum()\n",
        "\n",
        "# Mostrar los resultados\n",
        "print(f\"Costo total de llamadas diurnas para clientes que desertaron: ${costo_llamadas_diurnas_desertaron:,.2f}\")\n",
        "print(f\"Costo total de llamadas diurnas para clientes que permanecen: ${costo_llamadas_diurnas_permanecen:,.2f}\")"
      ]
    },
    {
      "cell_type": "markdown",
      "source": [
        "Compara el costo total de llamadas nocturnas (total night charge)."
      ],
      "metadata": {
        "id": "nFeAHaCyr_Zx"
      }
    },
    {
      "cell_type": "code",
      "execution_count": null,
      "metadata": {
        "id": "-R4W_UQKyjo6"
      },
      "outputs": [],
      "source": [
        "#Compara el costo total de llamadas nocturnas (total night charge) entre clientes con y sin churn.\n",
        "\n",
        "# Filtrar clientes que desertaron\n",
        "clientes_desertaron = churn[churn['churn'] == 1]\n",
        "\n",
        "# Filtrar clientes que permanecen\n",
        "clientes_permanecen = churn[churn['churn'] == 0]\n",
        "\n",
        "# Calcular el costo total de llamadas nocturnas para clientes que desertaron\n",
        "costo_llamadas_nocturnas_desertaron = clientes_desertaron['total night charge'].sum()\n",
        "\n",
        "# Calcular el costo total de llamadas nocturnas para clientes que permanecen\n",
        "costo_llamadas_nocturnas_permanecen = clientes_permanecen['total night charge'].sum()\n",
        "\n",
        "# Mostrar los resultados\n",
        "print(f\"Costo total de llamadas nocturnas para clientes que desertaron: ${costo_llamadas_nocturnas_desertaron:,.2f}\")\n",
        "print(f\"Costo total de llamadas nocturnas para clientes que permanecen: ${costo_llamadas_nocturnas_permanecen:,.2f}\")"
      ]
    }
  ],
  "metadata": {
    "colab": {
      "provenance": [],
      "collapsed_sections": [
        "-gqRGJ8yFs5Y",
        "YETaNaCr6oG1",
        "yL8Y_juFFup7",
        "vyaa82K0GF6B",
        "aKl9LnZgGsDT",
        "U7oTziiyG0Wb"
      ],
      "toc_visible": true,
      "include_colab_link": true
    },
    "kernelspec": {
      "display_name": "base",
      "language": "python",
      "name": "python3"
    },
    "language_info": {
      "codemirror_mode": {
        "name": "ipython",
        "version": 3
      },
      "file_extension": ".py",
      "mimetype": "text/x-python",
      "name": "python",
      "nbconvert_exporter": "python",
      "pygments_lexer": "ipython3",
      "version": "3.12.7"
    }
  },
  "nbformat": 4,
  "nbformat_minor": 0
}